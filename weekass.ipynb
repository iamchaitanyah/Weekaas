{
  "metadata": {
    "language_info": {
      "name": ""
    },
    "kernelspec": {
      "name": "",
      "display_name": ""
    }
  },
  "nbformat_minor": 4,
  "nbformat": 4,
  "cells": [
    {
      "cell_type": "markdown",
      "source": "My Jupyter Notebook on IBM Watson Studio",
      "metadata": {}
    },
    {
      "cell_type": "markdown",
      "source": "SIVA CHAITANYA JONNALAGADDA , SOFTWARE ENGINEER",
      "metadata": {}
    },
    {
      "cell_type": "markdown",
      "source": "I am interested in data science because,I want to become data scientist because i want to play with data and to gather data, manipulate to get the required results.",
      "metadata": {}
    },
    {
      "cell_type": "markdown",
      "source": "This code multiplies two numbers",
      "metadata": {}
    },
    {
      "cell_type": "code",
      "source": "x = 5\ny = 6\nw = x*y",
      "metadata": {},
      "execution_count": null,
      "outputs": []
    }
  ]
}